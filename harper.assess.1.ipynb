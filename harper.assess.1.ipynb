{
 "metadata": {
  "name": ""
 },
 "nbformat": 3,
 "nbformat_minor": 0,
 "worksheets": [
  {
   "cells": [
    {
     "cell_type": "markdown",
     "metadata": {},
     "source": [
      "## Corey A Harper -- Practical Data Science Assessment 1"
     ]
    },
    {
     "cell_type": "code",
     "collapsed": false,
     "input": [
      "!wget http://stern.nyu.edu/~ja1517/data/assess1_data.json"
     ],
     "language": "python",
     "metadata": {},
     "outputs": [
      {
       "output_type": "stream",
       "stream": "stdout",
       "text": [
        "--2013-10-30 18:15:14--  http://stern.nyu.edu/~ja1517/data/assess1_data.json\r\n",
        "Resolving stern.nyu.edu (stern.nyu.edu)... 128.122.130.29\r\n",
        "Connecting to stern.nyu.edu (stern.nyu.edu)|128.122.130.29|:80... connected.\r\n",
        "HTTP request sent, awaiting response... 302 Found\r\n",
        "Location: http://www.stern.nyu.edu/~ja1517/data/assess1_data.json [following]\r\n",
        "--2013-10-30 18:15:14--  http://www.stern.nyu.edu/~ja1517/data/assess1_data.json\r\n",
        "Resolving www.stern.nyu.edu (www.stern.nyu.edu)... 128.122.130.4\r\n",
        "Connecting to www.stern.nyu.edu (www.stern.nyu.edu)|128.122.130.4|:80... connected.\r\n",
        "HTTP request sent, awaiting response... "
       ]
      },
      {
       "output_type": "stream",
       "stream": "stdout",
       "text": [
        "302 Moved Temporarily\r\n",
        "Location: http://people.stern.nyu.edu/ja1517/data/assess1_data.json [following]\r\n",
        "--2013-10-30 18:15:14--  http://people.stern.nyu.edu/ja1517/data/assess1_data.json\r\n",
        "Resolving people.stern.nyu.edu (people.stern.nyu.edu)... 128.122.130.142\r\n",
        "Connecting to people.stern.nyu.edu (people.stern.nyu.edu)|128.122.130.142|:80... connected.\r\n",
        "HTTP request sent, awaiting response... "
       ]
      },
      {
       "output_type": "stream",
       "stream": "stdout",
       "text": [
        "200 OK\r\n",
        "Length: 6270233 (6.0M) [text/plain]\r\n",
        "Saving to: `assess1_data.json'\r\n",
        "\r\n",
        "\r",
        " 0% [                                       ] 0           --.-K/s              "
       ]
      },
      {
       "output_type": "stream",
       "stream": "stdout",
       "text": [
        "\r",
        " 2% [                                       ] 139,536      680K/s              "
       ]
      },
      {
       "output_type": "stream",
       "stream": "stdout",
       "text": [
        "\r",
        " 7% [==>                                    ] 499,524     1.19M/s              "
       ]
      },
      {
       "output_type": "stream",
       "stream": "stdout",
       "text": [
        "\r",
        "14% [====>                                  ] 937,830     1.49M/s              "
       ]
      },
      {
       "output_type": "stream",
       "stream": "stdout",
       "text": [
        "\r",
        "21% [=======>                               ] 1,361,022   1.61M/s              "
       ]
      },
      {
       "output_type": "stream",
       "stream": "stdout",
       "text": [
        "\r",
        "25% [=========>                             ] 1,611,090   1.50M/s              "
       ]
      },
      {
       "output_type": "stream",
       "stream": "stdout",
       "text": [
        "\r",
        "32% [===========>                           ] 2,052,144   1.60M/s              "
       ]
      },
      {
       "output_type": "stream",
       "stream": "stdout",
       "text": [
        "\r",
        "38% [==============>                        ] 2,427,246   1.62M/s              "
       ]
      },
      {
       "output_type": "stream",
       "stream": "stdout",
       "text": [
        "\r",
        "45% [================>                      ] 2,865,552   1.68M/s              "
       ]
      },
      {
       "output_type": "stream",
       "stream": "stdout",
       "text": [
        "\r",
        "52% [===================>                   ] 3,295,614   1.72M/s              "
       ]
      },
      {
       "output_type": "stream",
       "stream": "stdout",
       "text": [
        "\r",
        "59% [======================>                ] 3,713,310   1.75M/s              "
       ]
      },
      {
       "output_type": "stream",
       "stream": "stdout",
       "text": [
        "\r",
        "65% [========================>              ] 4,110,396   1.76M/s              "
       ]
      },
      {
       "output_type": "stream",
       "stream": "stdout",
       "text": [
        "\r",
        "71% [===========================>           ] 4,506,108   1.77M/s              "
       ]
      },
      {
       "output_type": "stream",
       "stream": "stdout",
       "text": [
        "\r",
        "78% [=============================>         ] 4,905,942   1.78M/s              "
       ]
      },
      {
       "output_type": "stream",
       "stream": "stdout",
       "text": [
        "\r",
        "85% [================================>      ] 5,351,118   1.80M/s              "
       ]
      },
      {
       "output_type": "stream",
       "stream": "stdout",
       "text": [
        "\r",
        "92% [===================================>   ] 5,805,912   1.83M/s  eta 0s      "
       ]
      },
      {
       "output_type": "stream",
       "stream": "stdout",
       "text": [
        "\r",
        "98% [=====================================> ] 6,192,006   1.90M/s  eta 0s      "
       ]
      },
      {
       "output_type": "stream",
       "stream": "stdout",
       "text": [
        "\r",
        "100%[======================================>] 6,270,233   1.90M/s   in 3.3s    \r\n",
        "\r\n",
        "2013-10-30 18:15:17 (1.83 MB/s) - `assess1_data.json' saved [6270233/6270233]\r\n",
        "\r\n"
       ]
      }
     ],
     "prompt_number": 2
    },
    {
     "cell_type": "code",
     "collapsed": false,
     "input": [
      "!head assess1_data.json "
     ],
     "language": "python",
     "metadata": {},
     "outputs": [
      {
       "output_type": "stream",
       "stream": "stdout",
       "text": [
        "{\"RFA_2F\":4,\"RFA_2A\":\"E\",\"TARGET_B\":0,\"LASTGIFT\":5,\"AVGGIFT\":7.4814814815,\"PEPSTRFL\":\"X\",\"LASTDATE\":9512,\"WEALTH_INDEX\":3.33,\"INCOME\":3,\"FISTDATE\":9001,\"NAME\":\"Reshama Y. Saat\"}\r\n",
        "{\"RFA_2F\":4,\"RFA_2A\":\"E\",\"TARGET_B\":0,\"LASTGIFT\":10,\"AVGGIFT\":6.8125,\"PEPSTRFL\":\"X\",\"LASTDATE\":9512,\"WEALTH_INDEX\":2.60,\"INCOME\":1,\"FISTDATE\":8702,\"NAME\":\"Alex P. Singh\"}\r\n",
        "{\"RFA_2F\":1,\"RFA_2A\":\"E\",\"TARGET_B\":0,\"LASTGIFT\":11,\"AVGGIFT\":7.6428571429,\"PEPSTRFL\":\"X\",\"LASTDATE\":9504,\"WEALTH_INDEX\":5.14,\"INCOME\":4,\"FISTDATE\":8701,\"NAME\":\"Vamsee M. Doban\"}\r\n",
        "{\"RFA_2F\":1,\"RFA_2A\":\"F\",\"TARGET_B\":0,\"LASTGIFT\":22,\"AVGGIFT\":18.090909091,\"PEPSTRFL\":\"X\",\"LASTDATE\":9507,\"WEALTH_INDEX\":2.19,\"INCOME\":3,\"FISTDATE\":8801,\"NAME\":\"Jianping C. Aiyangar\"}\r\n",
        "{\"RFA_2F\":4,\"RFA_2A\":\"D\",\"TARGET_B\":0,\"LASTGIFT\":6,\"AVGGIFT\":5.3333333333,\"PEPSTRFL\":\"X\",\"LASTDATE\":9601,\"WEALTH_INDEX\":1.46,\"INCOME\":4,\"FISTDATE\":8905,\"NAME\":\"Kelly V. McLiss\"}\r\n",
        "{\"RFA_2F\":1,\"RFA_2A\":\"F\",\"TARGET_B\":0,\"LASTGIFT\":15,\"AVGGIFT\":8.1,\"PEPSTRFL\":\"X\",\"LASTDATE\":9512,\"WEALTH_INDEX\":0.54,\"INCOME\":4,\"FISTDATE\":8702,\"NAME\":\"Kurt S. Pandey\"}\r\n",
        "{\"RFA_2F\":3,\"RFA_2A\":\"D\",\"TARGET_B\":1,\"LASTGIFT\":5,\"AVGGIFT\":4.0666666667,\"PEPSTRFL\":\"X\",\"LASTDATE\":9603,\"WEALTH_INDEX\":7.14,\"INCOME\":3,\"FISTDATE\":8701,\"NAME\":\"David N. Choi\"}\r\n",
        "{\"RFA_2F\":3,\"RFA_2A\":\"E\",\"TARGET_B\":0,\"LASTGIFT\":10,\"AVGGIFT\":8.875,\"PEPSTRFL\":\"X\",\"LASTDATE\":9512,\"WEALTH_INDEX\":6.87,\"INCOME\":7,\"FISTDATE\":9201,\"NAME\":\"Corinne F. Cohodes\"}\r\n",
        "{\"RFA_2F\":2,\"RFA_2A\":\"E\",\"TARGET_B\":0,\"LASTGIFT\":10,\"AVGGIFT\":8.5,\"PEPSTRFL\":\"X\",\"LASTDATE\":9512,\"WEALTH_INDEX\":13.00,\"INCOME\":7,\"FISTDATE\":9103,\"NAME\":\"Ann R. Aiyangar\"}\r\n",
        "{\"RFA_2F\":2,\"RFA_2A\":\"G\",\"TARGET_B\":0,\"LASTGIFT\":27,\"AVGGIFT\":16.166666667,\"PEPSTRFL\":\"X\",\"LASTDATE\":9508,\"WEALTH_INDEX\":1.23,\"INCOME\":5,\"FISTDATE\":8608,\"NAME\":\"Zelos P. Saini\"}\r\n"
       ]
      }
     ],
     "prompt_number": 3
    },
    {
     "cell_type": "code",
     "collapsed": false,
     "input": [
      "!wc assess1_data.json"
     ],
     "language": "python",
     "metadata": {},
     "outputs": [
      {
       "output_type": "stream",
       "stream": "stdout",
       "text": [
        "  35275  111311 6270233 assess1_data.json\r\n"
       ]
      }
     ],
     "prompt_number": 4
    },
    {
     "cell_type": "markdown",
     "metadata": {},
     "source": [
      "Question a. There are 35,275 records in the file. Records consist of the following 11 fields: RFA_2F, RFA_2A, TARGET_B, LASTGIFT, AVGGIFT, PEPSTRFL, LASTDATE, WEALTH_INDEX, INCOME, FIRSTDATE, and NAME. "
     ]
    },
    {
     "cell_type": "markdown",
     "metadata": {},
     "source": [
      "###Questions b through j are in the following program. See comments for additional details."
     ]
    },
    {
     "cell_type": "code",
     "collapsed": false,
     "input": [
      "import json\n",
      "import operator\n",
      "import numpy as np\n",
      "import matplotlib.pyplot as plt\n",
      "import matplotlib.patches as patches\n",
      "import matplotlib.path as path\n",
      "%matplotlib inline\n",
      "\n",
      "# Initialize data structures for use throughout program\n",
      "data = []\n",
      "names = []\n",
      "tokend_names = []\n",
      "last_first = []\n",
      "bad_data = 0\n",
      "clean_data = []\n",
      "# lenghts & parts used for determining scope of suffixes\n",
      "# See commented code block for more info\n",
      "name_lengths = { 0: 0, 1: 0, 2: 0, 3: 0, 4: 0 }\n",
      "name_parts = {}\n",
      "\n",
      "with open('assess1_data.json') as f:\n",
      "    for line in f:\n",
      "        if 'NULL' not in line:\n",
      "            data.append(json.loads(line))\n",
      "\n",
      "print \"\\nQ. b: The following names are duplicated in the data: \"            \n",
      "for rec in data:\n",
      "    if rec[\"NAME\"] not in names: names.append(rec[\"NAME\"])\n",
      "    else: print \"-- \" + rec[\"NAME\"]\n",
      "    if \"-9999\" in rec.values() or -9999 in rec.values(): bad_data += 1\n",
      "    else: clean_data.append(rec)\n",
      "    \n",
      "    # Unused code block\n",
      "    # Determining lengths of names, tracing frequency of suffixes\n",
      "    #name = rec[\"NAME\"].split()\n",
      "    #length = len(name)\n",
      "    #name_lengths[length] += 1\n",
      "    #if length == 4: print rec[\"NAME\"]\n",
      "   \n",
      "print \"\\nQ. c. There are \" + str(bad_data) + \" bad records (value -9999).\"\n",
      "#print \"\\ndata length: \" + str(len(data))\n",
      "#print \"\\nclean data length: \" + str(len(clean_data)) + \"\\n\"\n",
      "#print name_lengths\n",
      "\n",
      "rfa2f_counts = {}\n",
      "rfa2a_counts = {}\n",
      "income_counts = {}\n",
      "responded = 0\n",
      "total = 0\n",
      "\n",
      "respond_wealth = []\n",
      "norespond_wealth = []\n",
      "respond_wealth_top = []\n",
      "norespond_wealth_top = []\n",
      "\n",
      "# 2nd loop through data with -9999's removed\n",
      "# Used for questions d,e,f,g,j\n",
      "for rec in clean_data:\n",
      "    \n",
      "    #Tracking respondents\n",
      "    if rec[\"TARGET_B\"] == 1: \n",
      "        responded += 1\n",
      "        #how about just wealthindex over 50?\n",
      "        if rec[\"WEALTH_INDEX\"] >= 50: respond_wealth_top.append(rec[\"WEALTH_INDEX\"])\n",
      "        #Wealth Index of respondents\n",
      "        respond_wealth.append(rec[\"WEALTH_INDEX\"])\n",
      "        #if rec[\"WEALTH_INDEX\"] in respond_wealth.keys(): respond_wealth[rec[\"WEALTH_INDEX\"]] += 1\n",
      "        #else: respond_wealth[rec[\"WEALTH_INDEX\"]] = 1 \n",
      "    else: \n",
      "        if rec[\"WEALTH_INDEX\"] >= 50: norespond_wealth_top.append(rec[\"WEALTH_INDEX\"])\n",
      "        norespond_wealth.append(rec[\"WEALTH_INDEX\"])\n",
      "        #if rec[\"WEALTH_INDEX\"] in norespond_wealth.keys(): norespond_wealth[rec[\"WEALTH_INDEX\"]] += 1\n",
      "        #else: norespond_wealth[rec[\"WEALTH_INDEX\"]] = 1 \n",
      "    \n",
      "    #Counts of RFA_2F & _2A values\n",
      "    if rec[\"RFA_2F\"] in rfa2f_counts.keys(): rfa2f_counts[rec[\"RFA_2F\"]] += 1\n",
      "    else: rfa2f_counts[rec[\"RFA_2F\"]] = 1\n",
      "    if rec[\"RFA_2A\"] in rfa2a_counts.keys(): rfa2a_counts[rec[\"RFA_2A\"]] += 1\n",
      "    else: rfa2a_counts[rec[\"RFA_2A\"]] = 1\n",
      "    if rec[\"INCOME\"] in income_counts.keys(): income_counts[rec[\"INCOME\"]] += 1\n",
      "    else: income_counts[rec[\"INCOME\"]] = 1\n",
      "    \n",
      "    #Prediction values (Q. j)\n",
      "    rec[\"PREDICT\"] = -40 + 0.8*rec[\"WEALTH_INDEX\"] + 0.12*rec[\"RFA_2F\"]\n",
      "    #print str(rec[\"WEALTH_INDEX\"]) + \"|\" + str(rec[\"RFA_2F\"]) + \"|\" + str(rec[\"PREDICT\"])\n",
      "    \n",
      "    total += 1\n",
      "\n",
      "print \"\\nQ d. \"\n",
      "print \"\\nDistribution of RFA_2F values:\" \n",
      "for k, v in rfa2f_counts.iteritems():\n",
      "    print \" --{0}: {1}\".format(k,v)\n",
      "print \"\\nDistribution of RFA_2A values:\" \n",
      "for k, v in rfa2a_counts.iteritems():\n",
      "    print \" --{0}: {1}\".format(k,v)\n",
      "print \"\\nDistribution of INCOME values:\" \n",
      "for k, v in income_counts.iteritems():\n",
      "    print \"{0}: {1}\".format(k,v)\n",
      "print \"\\nQ e. \" + str(round(float(responded) / total,4) * 100) + \"% of customers responded to the campaign.\"\n",
      "\n",
      "print \"\\nQuestions d, f, g:\"\n",
      "print \"\\nDistribution of WEALTH_INDEX values, respondents in blue, nonrespondents in red:\" \n",
      "# Really basic frequency distribution in histogram form.\n",
      "plt.hist([respond_wealth, norespond_wealth], bins=10, color=[\"b\", \"r\"], label=[\"Respondents\", \"Non-respondents\"])\n",
      "#plt.hist(norespond_wealth, bins=20, color=\"r\")\n",
      "plt.title(\"Wealth Index Distribution\")\n",
      "plt.xlabel(\"Wealth Index\")\n",
      "plt.ylabel(\"Frequency\")\n",
      "plt.show()\n",
      "\n",
      "print \"\\nDistribution of WEALTH_INDEX values, respondents in blue, nonrespondents in red:\" \n",
      "print \"Disparity is more pronounced when data is normalized to show values as a proportion of the total\"\n",
      "# Really basic frequency distribution in histogram form.\n",
      "plt.hist([respond_wealth, norespond_wealth], bins=10, color=[\"b\", \"r\"], label=[\"Respondents\", \"Non-respondents\"], normed=True)\n",
      "#plt.hist(norespond_wealth, bins=20, color=\"r\")\n",
      "plt.title(\"Wealth Index Distribution\")\n",
      "plt.xlabel(\"Wealth Index\")\n",
      "plt.ylabel(\"Proportion of total count for category\")\n",
      "plt.show()\n",
      "#for k, v in respond_wealth.iteritems():\n",
      "#    print \"{0}: {1}\".format(k,v)\n",
      "\n",
      "print \"\\nThis becomes even more pronouced if limited wealth indexes over 50, and tightening up bins.\"\n",
      "plt.hist([respond_wealth_top, norespond_wealth_top], bins=5, color=[\"b\", \"r\"], label=[\"Respondents\", \"Non-respondents\"])\n",
      "plt.title(\"Wealth Index Distribution\")\n",
      "plt.xlabel(\"Wealth Index\")\n",
      "plt.ylabel(\"Frequency\")\n",
      "plt.show()\n",
      "#for k, v in norespond_wealth.iteritems():\n",
      "#    print \"{0}: {1}\".format(k,v)   \n",
      "\n",
      "print \"\\n Min & Max values for respondents are: Min {0}, Max {1}\".format(min(respond_wealth), max(respond_wealth))\n",
      "print \"Min & Max values for non-respondents are: Min {0}, Max {1}\".format(min(norespond_wealth), max(norespond_wealth))\n",
      "\n",
      "\n",
      "ncount = 0\n",
      "print \"\\nQ h. Sorted Names: \"\n",
      "for name in sorted(names):\n",
      "    ncount+=1\n",
      "    if ncount <= 10 or 20000 <= ncount <= 20010:\n",
      "        print \" --{0}: {1}\".format(ncount, name)\n",
      "        \n",
      "# Sorting Names last name first\n",
      "# Earlier code identified suffixes as extra element.\n",
      "# \"Last name\" is either tokens[-1] or tokens[-2] depending on suffix.\n",
      "for name in names:\n",
      "    tokens = name.split()\n",
      "    #Build names as last name, first name [mi], [suffix]\n",
      "    if tokens[-1] in [\"Jr.\", \"Sr.\", \"III\", \"IV\"]:\n",
      "        lnf = tokens[-2] + \", \" + \" \".join(tokens[:-2]) + \", \" + tokens[-1]\n",
      "    else:\n",
      "        lnf = tokens[-1] + \", \" + \" \".join(tokens[:-1])\n",
      "    last_first.append(lnf)\n",
      "    tokend_names.append(tokens)\n",
      "    for token in tokens:\n",
      "        if token in name_parts.keys(): name_parts[token] += 1\n",
      "        else: name_parts[token] = 1\n",
      "\n",
      "ncount = 0\n",
      "print \"\\nQ i. Last name, First Sorted: \"\n",
      "for name in sorted(last_first):\n",
      "    ncount+=1\n",
      "    if ncount <= 10 or 20000 <= ncount <= 20010:\n",
      "        print \"{0}: {1}\".format(ncount, name)\n",
      "\n",
      "'''\n",
      "Sorted parts segment here is used to determine the most frequent name \"tokens\"\n",
      "basis for ruling out Jr, Sr, III, IV above...\n",
      "sorted_parts = sorted(name_parts.iteritems(), key=operator.itemgetter(1))\n",
      "pcount = 0\n",
      "for k in sorted_parts:\n",
      "    if pcount <= 20:\n",
      "        print '-- {0}\\t{1}'.format(k[0], k[1])\n",
      "    pcount += 1\n",
      "'''\n",
      "\n",
      "tcount = 0\n",
      "#key=lambda x:x['year']\n",
      "#top_predict = sorted(clean_data,key=itemgetter('PREDICT'))\n",
      "print \"\\nQ j., sort by calculated \\\"Predict\\\" value, print top 10:\"\n",
      "top_predict = sorted(clean_data, key=lambda x:x['PREDICT'], reverse=True)\n",
      "responders = 0\n",
      "for k in top_predict:\n",
      "    if k[\"TARGET_B\"] == 1:\n",
      "        responders+=1\n",
      "    if tcount < 10:\n",
      "        print \" --\" + str(k)\n",
      "    if tcount == 3500:\n",
      "        top_10 = responders\n",
      "        #print \"\\n\" + str(top_10) + \" are in the top 10% of predicted responders.\"\n",
      "    tcount+=1\n",
      "\n",
      "print (\"\\nQ k: \" + str(top_10) + \" out of \" + str(responders) + \n",
      "       \" (\" + str(round(float(top_10) / responders,4) * 100) + \n",
      "       \"%) are in the top 10% of predicted responders.\")\n",
      "    \n",
      "\n",
      "\n",
      "\n"
     ],
     "language": "python",
     "metadata": {},
     "outputs": [
      {
       "output_type": "stream",
       "stream": "stdout",
       "text": [
        "\n",
        "Q. b: The following names are duplicated in the data: \n",
        "-- Sneha K. O'Hooper"
       ]
      },
      {
       "output_type": "stream",
       "stream": "stdout",
       "text": [
        "\n",
        "\n",
        "Q. c. There are 3 bad records (value -9999)."
       ]
      },
      {
       "output_type": "stream",
       "stream": "stdout",
       "text": [
        "\n",
        "\n",
        "Q d. "
       ]
      },
      {
       "output_type": "stream",
       "stream": "stdout",
       "text": [
        "\n",
        "\n",
        "Distribution of RFA_2F values:\n",
        " --1: 12530\n",
        " --2: 8134\n",
        " --3: 7367\n",
        " --4: 7241\n",
        "\n",
        "Distribution of RFA_2A values:\n",
        " --E: 12884\n",
        " --D: 5074\n",
        " --G: 5125\n",
        " --F: 12189\n",
        "\n",
        "Distribution of INCOME values:\n",
        "1: 4934\n",
        "2: 6901\n",
        "3: 4202\n",
        "4: 5863\n",
        "5: 7029\n",
        "6: 3336\n",
        "7: 3007\n",
        "\n",
        "Q e. 6.31% of customers responded to the campaign.\n",
        "\n",
        "Questions d, f, g:\n",
        "\n",
        "Distribution of WEALTH_INDEX values, respondents in blue, nonrespondents in red:\n"
       ]
      },
      {
       "metadata": {},
       "output_type": "display_data",
       "png": "[encoded data removed]",
       "text": [
        "<matplotlib.figure.Figure at 0x7df3990>"
       ]
      },
      {
       "output_type": "stream",
       "stream": "stdout",
       "text": [
        "\n",
        "Distribution of WEALTH_INDEX values, respondents in blue, nonrespondents in red:\n",
        "Disparity is more pronounced when data is normalized to show values as a proportion of the total\n"
       ]
      },
      {
       "metadata": {},
       "output_type": "display_data",
       "png": "[encoded data removed]",
       "text": [
        "<matplotlib.figure.Figure at 0x83aae10>"
       ]
      },
      {
       "output_type": "stream",
       "stream": "stdout",
       "text": [
        "\n",
        "This becomes even more pronouced if limited wealth indexes over 50, and tightening up bins.\n"
       ]
      },
      {
       "metadata": {},
       "output_type": "display_data",
       "png": "[encoded data removed]",
       "text": [
        "<matplotlib.figure.Figure at 0x7de9850>"
       ]
      },
      {
       "output_type": "stream",
       "stream": "stdout",
       "text": [
        "\n",
        " Min & Max values for respondents are: Min 0.01, Max 99.85\n",
        "Min & Max values for non-respondents are: Min 0.06, Max 99.83\n",
        "\n",
        "Q h. Sorted Names: \n",
        " --1: Abby A. Bhandari\n",
        " --2: Abby A. Casagrande Sr.\n",
        " --3: Abby A. Cedrone\n",
        " --4: Abby A. Choi\n",
        " --5: Abby A. Cohodes\n",
        " --6: Abby A. Feng Jr.\n",
        " --7: Abby A. George\n",
        " --8: Abby A. Harchwani\n",
        " --9: Abby A. Ho\n",
        " --10: Abby A. Hooper\n",
        " --20000: Kelly G. Shi\n",
        " --20001: Kelly G. Zhu Jr.\n",
        " --20002: Kelly George Jr.\n",
        " --20003: Kelly Goldston III\n",
        " --20004: Kelly H. Aiyangar\n",
        " --20005: Kelly H. Aiyangar III\n",
        " --20006: Kelly H. Cedrone\n",
        " --20007: Kelly H. Cohodes\n",
        " --20008: Kelly H. Doban\n",
        " --20009: Kelly H. George\n",
        " --20010: Kelly H. Hao Sr.\n",
        "\n",
        "Q i. Last name, First Sorted: "
       ]
      },
      {
       "output_type": "stream",
       "stream": "stdout",
       "text": [
        "\n",
        "1: Aiyangar, Abby\n",
        "2: Aiyangar, Abby B., Sr.\n",
        "3: Aiyangar, Abby D., Jr.\n",
        "4: Aiyangar, Abby E.\n",
        "5: Aiyangar, Abby G., Sr.\n",
        "6: Aiyangar, Abby K.\n",
        "7: Aiyangar, Abby M., III\n",
        "8: Aiyangar, Abby O.\n",
        "9: Aiyangar, Abby Q.\n",
        "10: Aiyangar, Abby R.\n",
        "20000: O'Aiyangar, Craig C.\n",
        "20001: O'Aiyangar, Craig H.\n",
        "20002: O'Aiyangar, Craig I.\n",
        "20003: O'Aiyangar, Daniel C.\n",
        "20004: O'Aiyangar, Daniel V.\n",
        "20005: O'Aiyangar, David D.\n",
        "20006: O'Aiyangar, Dong C.\n",
        "20007: O'Aiyangar, Dong L.\n",
        "20008: O'Aiyangar, Douglas B.\n",
        "20009: O'Aiyangar, Hyung C.\n",
        "20010: O'Aiyangar, Hyung N.\n",
        "\n",
        "Q j., sort by calculated \"Predict\" value, print top 10:\n",
        " --{u'RFA_2F': 4, u'RFA_2A': u'E', u'TARGET_B': 1, u'LASTGIFT': 13, u'AVGGIFT': 9.75, u'PEPSTRFL': u'X', 'PREDICT': 40.35999999999999, u'LASTDATE': 9601, u'WEALTH_INDEX': 99.85, u'INCOME': 5, u'FISTDATE': 9301, u'NAME': u'Kevin E. Zaczynski'}"
       ]
      },
      {
       "output_type": "stream",
       "stream": "stdout",
       "text": [
        "\n",
        " --{u'RFA_2F': 2, u'RFA_2A': u'E', u'TARGET_B': 0, u'LASTGIFT': 7, u'AVGGIFT': 7.9333333333, u'PEPSTRFL': u'X', 'PREDICT': 40.104000000000006, u'LASTDATE': 9512, u'WEALTH_INDEX': 99.83, u'INCOME': 1, u'FISTDATE': 9001, u'NAME': u'Kevin J. Sanchez'}\n",
        " --{u'RFA_2F': 1, u'RFA_2A': u'G', u'TARGET_B': 1, u'LASTGIFT': 38, u'AVGGIFT': 27.277777778, u'PEPSTRFL': u'X', 'PREDICT': 39.38400000000001, u'LASTDATE': 9504, u'WEALTH_INDEX': 99.08, u'INCOME': 2, u'FISTDATE': 8707, u'NAME': u'Joseph I. Shaikh'}\n",
        " --{u'RFA_2F': 4, u'RFA_2A': u'D', u'TARGET_B': 1, u'LASTGIFT': 5, u'AVGGIFT': 4.25, u'PEPSTRFL': u'X', 'PREDICT': 39.35999999999999, u'LASTDATE': 9601, u'WEALTH_INDEX': 98.6, u'INCOME': 2, u'FISTDATE': 8702, u'NAME': u'Corinne D. Doban III'}\n",
        " --{u'RFA_2F': 1, u'RFA_2A': u'E', u'TARGET_B': 1, u'LASTGIFT': 10, u'AVGGIFT': 10.25, u'PEPSTRFL': u'X', 'PREDICT': 39.296, u'LASTDATE': 9512, u'WEALTH_INDEX': 98.97, u'INCOME': 5, u'FISTDATE': 9009, u'NAME': u'Douglas G. Kim Jr.'}\n",
        " --{u'RFA_2F': 1, u'RFA_2A': u'E', u'TARGET_B': 1, u'LASTGIFT': 11, u'AVGGIFT': 7.5454545455, u'PEPSTRFL': u'X', 'PREDICT': 39.088, u'LASTDATE': 9508, u'WEALTH_INDEX': 98.71, u'INCOME': 5, u'FISTDATE': 8609, u'NAME': u'Tyler X. Kim Sr.'}\n",
        " --{u'RFA_2F': 4, u'RFA_2A': u'E', u'TARGET_B': 0, u'LASTGIFT': 10, u'AVGGIFT': 10.681818182, u'PEPSTRFL': u'X', 'PREDICT': 39.080000000000005, u'LASTDATE': 9512, u'WEALTH_INDEX': 98.25, u'INCOME': 4, u'FISTDATE': 9103, u'NAME': u'Vitalii U. Hill'}\n",
        " --{u'RFA_2F': 3, u'RFA_2A': u'E', u'TARGET_B': 1, u'LASTGIFT': 3, u'AVGGIFT': 2.7096774194, u'PEPSTRFL': u'X', 'PREDICT': 39.040000000000006, u'LASTDATE': 9511, u'WEALTH_INDEX': 98.35, u'INCOME': 1, u'FISTDATE': 8608, u'NAME': u'Zhengyang E. McSanchez'}\n",
        " --{u'RFA_2F': 1, u'RFA_2A': u'F', u'TARGET_B': 1, u'LASTGIFT': 15, u'AVGGIFT': 9.5294117647, u'PEPSTRFL': u'X', 'PREDICT': 38.99200000000001, u'LASTDATE': 9505, u'WEALTH_INDEX': 98.59, u'INCOME': 5, u'FISTDATE': 8702, u'NAME': u'Douglas Q. Goldston'}\n",
        " --{u'RFA_2F': 1, u'RFA_2A': u'F', u'TARGET_B': 1, u'LASTGIFT': 15, u'AVGGIFT': 9.1666666667, u'PEPSTRFL': u'X', 'PREDICT': 38.808, u'LASTDATE': 9512, u'WEALTH_INDEX': 98.36, u'INCOME': 5, u'FISTDATE': 9103, u'NAME': u'Ryan E. Singh'}\n",
        "\n",
        "Q k: 917 out of 2226 (41.19%) are in the top 10% of predicted responders.\n"
       ]
      }
     ],
     "prompt_number": 2
    },
    {
     "cell_type": "markdown",
     "metadata": {},
     "source": [
      "####Optional Q. K. \n",
      "\n",
      "    The formula -40 + 0.8*WEALTH_INDEX + 0.12*RFA_2F seems to be a somewhat helpful predictor, though it's hard to say for sure. The formula mildly takes RFA_2F into account, giving far more weight to wealth_index, but the use of .12(RFA_2F) seems just enough to filter out many of the high wealth_index values that don't end up donating. Based on just this sample of the top 10 perdiction values, it's significant that 8 of the 10 responded to the targetted campaign.  \n",
      "    \n",
      "    Per the last bit of code above, though, over 40% of responses to the targetted campaign are in that top 10% of \"prediction\" values, so there's definitely a fair bit of effeciency to be gained by limiting mailings, though you'd lose over half of your donations. Further analysis of \"lastgift\" & \"avggift\" might help evaluate the (predicted) monetary value of those lost gifts.\n",
      "    "
     ]
    }
   ],
   "metadata": {}
  }
 ]
}