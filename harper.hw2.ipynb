{
 "metadata": {
  "name": ""
 },
 "nbformat": 3,
 "nbformat_minor": 0,
 "worksheets": [
  {
   "cells": [
    {
     "cell_type": "code",
     "collapsed": false,
     "input": [
      "!wget https://raw.github.com/jattenberg/PDS-Fall-2013/master/roster/survey_multiple_choice.csv"
     ],
     "language": "python",
     "metadata": {},
     "outputs": [
      {
       "output_type": "stream",
       "stream": "stdout",
       "text": [
        "--2013-10-06 15:35:05--  https://raw.github.com/jattenberg/PDS-Fall-2013/master/roster/survey_multiple_choice.csv\r\n",
        "Resolving raw.github.com (raw.github.com)... 199.27.75.133\r\n",
        "Connecting to raw.github.com (raw.github.com)|199.27.75.133|:443... connected.\r\n",
        "HTTP request sent, awaiting response... 200 OK\r\n",
        "Length: 11936 (12K) [text/plain]\r\n",
        "Saving to: `survey_multiple_choice.csv'\r\n",
        "\r\n",
        "\r",
        " 0% [                                       ] 0           --.-K/s              \r",
        "100%[======================================>] 11,936      --.-K/s   in 0s      \r\n",
        "\r\n",
        "2013-10-06 15:35:05 (94.3 MB/s) - `survey_multiple_choice.csv' saved [11936/11936]\r\n",
        "\r\n"
       ]
      }
     ],
     "prompt_number": 1
    },
    {
     "cell_type": "code",
     "collapsed": false,
     "input": [],
     "language": "python",
     "metadata": {},
     "outputs": []
    }
   ],
   "metadata": {}
  }
 ]
}