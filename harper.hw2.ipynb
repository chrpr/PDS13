{
 "metadata": {
  "name": ""
 },
 "nbformat": 3,
 "nbformat_minor": 0,
 "worksheets": [
  {
   "cells": [
    {
     "cell_type": "markdown",
     "metadata": {},
     "source": [
      "## Corey A Harper -- Practical Data Science HW 2\n",
      "\n",
      "### Part I: Data Undersatnding and visualization"
     ]
    },
    {
     "cell_type": "raw",
     "metadata": {},
     "source": [
      "1. File Downloaded: "
     ]
    },
    {
     "cell_type": "code",
     "collapsed": false,
     "input": [
      "!wget https://raw.github.com/jattenberg/PDS-Fall-2013/master/roster/survey_multiple_choice.csv"
     ],
     "language": "python",
     "metadata": {},
     "outputs": [
      {
       "output_type": "stream",
       "stream": "stdout",
       "text": [
        "--2013-10-06 20:14:15--  https://raw.github.com/jattenberg/PDS-Fall-2013/master/roster/survey_multiple_choice.csv\r\n"
       ]
      },
      {
       "output_type": "stream",
       "stream": "stdout",
       "text": [
        "Resolving raw.github.com (raw.github.com)... 199.27.72.133\r\n",
        "Connecting to raw.github.com (raw.github.com)|199.27.72.133|:443... connected.\r\n"
       ]
      },
      {
       "output_type": "stream",
       "stream": "stdout",
       "text": [
        "HTTP request sent, awaiting response... 200 OK\r\n",
        "Length: 11936 (12K) [text/plain]\r\n",
        "Saving to: `survey_multiple_choice.csv.1'\r\n",
        "\r\n",
        "\r",
        " 0% [                                       ] 0           --.-K/s              \r",
        "100%[======================================>] 11,936      --.-K/s   in 0s      \r\n",
        "\r\n",
        "2013-10-06 20:14:15 (136 MB/s) - `survey_multiple_choice.csv.1' saved [11936/11936]\r\n",
        "\r\n"
       ]
      }
     ],
     "prompt_number": 1
    },
    {
     "cell_type": "raw",
     "metadata": {},
     "source": [
      "2. 52 students completed the survey:"
     ]
    },
    {
     "cell_type": "code",
     "collapsed": false,
     "input": [
      "!wc survey_multiple_choice.csv"
     ],
     "language": "python",
     "metadata": {},
     "outputs": [
      {
       "output_type": "stream",
       "stream": "stdout",
       "text": [
        "   52  1804 11936 survey_multiple_choice.csv\r\n"
       ]
      }
     ],
     "prompt_number": 2
    },
    {
     "cell_type": "raw",
     "metadata": {},
     "source": [
      "3. (and 5.) The following shows the distributions in the three experience based questions, in decreasing order, from most to least common response:"
     ]
    },
    {
     "cell_type": "code",
     "collapsed": false,
     "input": [
      "import operator\n",
      "import codecs\n",
      "#responses =  codecs.open(\"survey_multiple_choice.csv\", 'r')\n",
      "responses = open(\"survey_multiple_choice.csv\", \"r\")\n",
      "\n",
      "unixskills = {}\n",
      "dbskills = {}\n",
      "codeskills = {}\n",
      "\n",
      "for line in responses:\n",
      "    data = line.split(',')        \n",
      "    if data[2].rstrip() not in unixskills.keys():\n",
      "        unixskills[data[2].rstrip()] = 1\n",
      "    else: unixskills[data[2].rstrip()] += 1\n",
      "    \n",
      "    if data[3].rstrip() not in dbskills.keys():\n",
      "        dbskills[data[3].rstrip()] = 1\n",
      "    else: dbskills[data[3].rstrip()] += 1\n",
      "    \n",
      "    if data[4].rstrip() not in codeskills.keys():\n",
      "        codeskills[data[4].rstrip()] = 1\n",
      "    else: codeskills[data[4].rstrip()] += 1\n",
      "            \n",
      "print \"The distribution of unix experience is:\"\n",
      "sorted_unix = sorted(unixskills.iteritems(), key=operator.itemgetter(1), reverse=True)\n",
      "for k in sorted_unix:\n",
      "    print '-- {0}\\t{1}'.format(k[0], k[1])\n",
      "\n",
      "print \"\\nThe distribution of database experience is:\"\n",
      "sorted_db = sorted(dbskills.iteritems(), key=operator.itemgetter(1), reverse=True)\n",
      "for k in sorted_db:\n",
      "    print '-- {0}\\t{1}'.format(k[0], k[1])\n",
      "    \n",
      "print \"\\nThe distribution of programming experience is:\"\n",
      "sorted_code = sorted(codeskills.iteritems(), key=operator.itemgetter(1), reverse=True)\n",
      "for k in sorted_code:\n",
      "    print '-- {0}\\t{1}'.format(k[0], k[1])"
     ],
     "language": "python",
     "metadata": {},
     "outputs": [
      {
       "output_type": "stream",
       "stream": "stdout",
       "text": [
        "The distribution of unix experience is:\n",
        "-- I have issued a few commands in a terminal based on given instructions\t21\n",
        "-- I have written simple terminal commands or done some system work on the terminal\t18\n",
        "-- I have no experience working in a terminal\t6\n",
        "-- I don\u2019t even understand the question\t5\n",
        "-- I have written complex commands done or have done deep system work\t2\n",
        "\n",
        "The distribution of database experience is:\n",
        "-- I can write simple queries and issue them to a database\t17\n",
        "-- I have never directly accessed a database\t17\n",
        "-- I have issued simple queries to a relational database based on given instructions\t10\n",
        "-- I can write very complex queries when needed\t8\n",
        "\n",
        "The distribution of programming experience is:\n",
        "-- I have written simple programs based on instructions or a tutorial\t21\n",
        "-- I can write simple programs to accomplish tasks I encounter\t17\n",
        "-- I can write complex programs am familiar with programming design patterns software testing system design and algorithms.\t8\n",
        "-- I have never programmed before.\t6\n"
       ]
      }
     ],
     "prompt_number": 5
    },
    {
     "cell_type": "raw",
     "metadata": {},
     "source": [
      "4. All three categories have similar distribution across the tasks. Unix commands probably represent the highest overall skill area. A rough math equation can easily confirm this, as will the various matplotlib plots in Q's 6-8."
     ]
    },
    {
     "cell_type": "code",
     "collapsed": false,
     "input": [
      "unix_weights = {\n",
      "    \"I don\u2019t even understand the question\": 1,\n",
      "    \"I have no experience working in a terminal\" :2,\n",
      "    \"I have issued a few commands in a terminal based on given instructions\" :3,\n",
      "    \"I have written simple terminal commands or done some system work on the terminal\": 4,\n",
      "    \"I have written complex commands done or have done deep system work\": 5\n",
      "}\n",
      "\n",
      "db_weights = {\n",
      "    \"I have never directly accessed a database\": 1, \n",
      "    \"I have issued simple queries to a relational database based on given instructions\":2 ,\n",
      "    \"I can write simple queries and issue them to a database\": 3,\n",
      "    \"I can write very complex queries when needed\": 4,\n",
      "    \"I am a database hacker\": 5\n",
      "}\n",
      "\n",
      "code_weights = {\n",
      "    \"I have never programmed before.\": 1,\n",
      "    \"I have written simple programs based on instructions or a tutorial\": 2,\n",
      "    \"I can write simple programs to accomplish tasks I encounter\": 3,\n",
      "    \"I can write complex programs am familiar with programming design patterns software testing system design and algorithms.\": 4,\n",
      "    \"I am a hacker or have  senior-level programming experience\": 5\n",
      "}\n",
      "\n",
      "proficiencies = { \"unix\": 0, \"db\": 0, \"code\": 0 } \n",
      "   \n",
      "for k, v in unixskills.iteritems():\n",
      "    proficiencies[\"unix\"]+= unix_weights[k] * v    \n",
      "\n",
      "for k, v in dbskills.iteritems():\n",
      "    proficiencies[\"db\"]+= db_weights[k] * v \n",
      "    \n",
      "for k, v in codeskills.iteritems():\n",
      "    proficiencies[\"code\"]+= code_weights[k] * v \n",
      "\n",
      "print \"The weighted total proficiencies of the class in each skill category are:\"\n",
      "for k, v in proficiencies.iteritems():\n",
      "    print \" --{0}:  \\t{1}\".format(k, v)"
     ],
     "language": "python",
     "metadata": {},
     "outputs": [
      {
       "output_type": "stream",
       "stream": "stdout",
       "text": [
        "The weighted total proficiencies of the class in each skill category are:\n",
        " --unix:  \t162\n",
        " --code:  \t131\n",
        " --db:  \t120\n"
       ]
      }
     ],
     "prompt_number": 7
    },
    {
     "cell_type": "raw",
     "metadata": {},
     "source": [
      "5. See Question 3, above."
     ]
    },
    {
     "cell_type": "raw",
     "metadata": {},
     "source": [
      "6. Separate Matplotlib charts are below:"
     ]
    },
    {
     "cell_type": "code",
     "collapsed": false,
     "input": [
      "import matplotlib.pyplot as plt\n",
      "%matplotlib inline\n",
      "unix_plot = [[], []]\n",
      "db_plot = [[], []]\n",
      "code_plot = [[], []]\n",
      "\n",
      "# Right, so I'm re-using my data structures from the previous problem here\n",
      "# But I'm indexing by string rather than numeric key\n",
      "# So these quick dict interpolations flip 'em for me...\n",
      "inv_unix = {v:k for k, v in unix_weights.iteritems()}\n",
      "inv_db = {v:k for k, v in db_weights.iteritems()}\n",
      "inv_code = {v:k for k, v in code_weights.iteritems()}\n",
      "\n",
      "\n",
      "for k, v in inv_unix.iteritems():\n",
      "    unix_plot[0].append(k)\n",
      "    unix_plot[1].append(unixskills[v])\n",
      "\n",
      "for k, v in inv_db.iteritems():\n",
      "    db_plot[0].append(k)\n",
      "    if v in dbskills.keys(): db_plot[1].append(dbskills[v])\n",
      "    else: db_plot[1].append(0)\n",
      "\n",
      "for k, v in inv_code.iteritems():\n",
      "    code_plot[0].append(k)\n",
      "    if v in codeskills.keys(): code_plot[1].append(codeskills[v])\n",
      "    else: code_plot[1].append(0)\n",
      "\n",
      "print unix_plot[0]\n",
      "print unix_plot[1]\n",
      "print db_plot[0]\n",
      "print db_plot[1]\n",
      "print code_plot[0]\n",
      "print code_plot[1]\n",
      "plt.figure(1)\n",
      "plt.plot(unix_plot[0], unix_plot[1], 'r')\n",
      "plt.figure(2)\n",
      "plt.plot(db_plot[0], db_plot[1], 'b')\n",
      "plt.figure(3)\n",
      "plt.plot(code_plot[0], code_plot[1], 'g--')"
     ],
     "language": "python",
     "metadata": {},
     "outputs": [
      {
       "output_type": "stream",
       "stream": "stdout",
       "text": [
        "[1, 2, 3, 4, 5]\n",
        "[5, 6, 21, 18, 2]\n",
        "[1, 2, 3, 4, 5]\n",
        "[17, 10, 17, 8, 0]\n",
        "[1, 2, 3, 4, 5]\n",
        "[6, 21, 17, 8, 0]\n"
       ]
      },
      {
       "metadata": {},
       "output_type": "pyout",
       "prompt_number": 8,
       "text": [
        "[<matplotlib.lines.Line2D at 0x316fcd0>]"
       ]
      },
      {
       "metadata": {},
       "output_type": "display_data",
       "png": "[encoded data removed]",
       "text": [
        "<matplotlib.figure.Figure at 0x2e7ead0>"
       ]
      },
      {
       "metadata": {},
       "output_type": "display_data",
       "png": "[encoded data removed]",
       "text": [
        "<matplotlib.figure.Figure at 0x2e7ef50>"
       ]
      },
      {
       "metadata": {},
       "output_type": "display_data",
       "png": "[encoded data removed]",
       "text": [
        "<matplotlib.figure.Figure at 0x2e72510>"
       ]
      }
     ],
     "prompt_number": 8
    },
    {
     "cell_type": "raw",
     "metadata": {},
     "source": [
      "7. And all on the same plot: \n",
      "(I couldn't figure out a way to get the green & blue lines distinct where they overlap...)"
     ]
    },
    {
     "cell_type": "code",
     "collapsed": false,
     "input": [
      "plt.plot(unix_plot[0], unix_plot[1], 'r--')\n",
      "plt.plot(db_plot[0], db_plot[1], 'b')\n",
      "plt.plot(code_plot[0], code_plot[1], 'g')\n"
     ],
     "language": "python",
     "metadata": {},
     "outputs": [
      {
       "metadata": {},
       "output_type": "pyout",
       "prompt_number": 9,
       "text": [
        "[<matplotlib.lines.Line2D at 0x2deed90>]"
       ]
      },
      {
       "metadata": {},
       "output_type": "display_data",
       "png": "[encoded data removed]",
       "text": [
        "<matplotlib.figure.Figure at 0x1a110d0>"
       ]
      }
     ],
     "prompt_number": 9
    },
    {
     "cell_type": "raw",
     "metadata": {},
     "source": [
      "8. Switching over to a bar chart. This was actually a lot of fun. Various interesting problems to solve included:\n",
      "\n",
      "- Getting the legend to stay out of the way of the rest of the chart\n",
      "\n",
      "- Getting the \"zero\" counts for level five proficiecies to stay within the chart. The really clever list interpolition solution of adding \"epsilon\" came from stackoverflow here: \n",
      "     http://stackoverflow.com/questions/10211208/force-bins-with-zero-height-in-matplotlib-bar-plot"
     ]
    },
    {
     "cell_type": "code",
     "collapsed": false,
     "input": [
      "#!/usr/bin/env python\n",
      "# a bar plot with errorbars\n",
      "import numpy as np\n",
      "import matplotlib.pyplot as plt\n",
      "from matplotlib.font_manager import FontProperties\n",
      "\n",
      "N = 5\n",
      "\n",
      "ind = np.arange(N)  # the x locations for the groups\n",
      "width = 0.30    # the width of the bars\n",
      "\n",
      "epsilon = 1e-7\n",
      "code_plot[1] = [x+epsilon for x in code_plot[1]]\n",
      "\n",
      "\n",
      "fig, ax = plt.subplots()\n",
      "rects1 = ax.bar(ind, unix_plot[1], width, color='r')\n",
      "rects2 = ax.bar(ind + width, db_plot[1], width, color='y')\n",
      "rects3 = ax.bar(ind+width+width, code_plot[1], width, color='b')\n",
      "\n",
      "# add some\n",
      "ax.set_ylabel('Number of respondents')\n",
      "ax.set_xlabel('Proficiency Level')\n",
      "\n",
      "ax.set_title('Respondents by proficiency level')\n",
      "ax.set_xticks(ind+(width*1.5))\n",
      "ax.set_xticklabels( ('1', '2', '3', '4', '5') )\n",
      "\n",
      "fontP = FontProperties()\n",
      "fontP.set_size('small')\n",
      "#ax.legend([rects1], \"title\", prop = fontP)\n",
      "\n",
      "ax.legend((rects1[0], rects2[0], rects3[0]), ('Unix', 'Database', 'Programming'), loc='center left', \n",
      "          bbox_to_anchor=(1, 0.5), ncol=1, fancybox=True, shadow=True)\n",
      "\n",
      "#ax.legend( (rects1[0], rects2[0], rects3[0]), ('Unix', 'Database', 'Programming'), prop = fontP )\n",
      "#ax.legend()\n",
      "\n",
      "def autolabel(rects):\n",
      "    # attach some text labels\n",
      "    for rect in rects:\n",
      "        height = rect.get_height()\n",
      "        ax.text(rect.get_x()+rect.get_width()/2., 1.05*height, '%d'%int(height),\n",
      "                ha='center', va='bottom')\n",
      "\n",
      "autolabel(rects1)\n",
      "autolabel(rects2)\n",
      "autolabel(rects3)\n",
      "\n",
      "\n",
      "plt.show()"
     ],
     "language": "python",
     "metadata": {},
     "outputs": [
      {
       "metadata": {},
       "output_type": "display_data",
       "png": "[encoded data removed]",
       "text": [
        "<matplotlib.figure.Figure at 0x3191990>"
       ]
      }
     ],
     "prompt_number": 10
    },
    {
     "cell_type": "raw",
     "metadata": {},
     "source": [
      "8.a. If you'd really like them on separate charts:"
     ]
    },
    {
     "cell_type": "code",
     "collapsed": false,
     "input": [
      "#!/usr/bin/env python\n",
      "# a bar plot with errorbars\n",
      "import numpy as np\n",
      "import matplotlib.pyplot as plt\n",
      "from matplotlib.font_manager import FontProperties\n",
      "\n",
      "N = 5\n",
      "ind = np.arange(N)  # the x locations for the groups\n",
      "width = 0.40    # the width of the bars\n",
      "\n",
      "epsilon = 1e-7\n",
      "code_plot[1] = [x+epsilon for x in code_plot[1]]\n",
      "db_plot[1] = [x+epsilon for x in db_plot[1]]\n",
      "\n",
      "\n",
      "fig1, ax1 = plt.subplots()\n",
      "fig1 = ax1.bar(ind, unix_plot[1], width, color='r')\n",
      "ax1.set_ylabel('Number of respondents')\n",
      "ax1.set_xlabel('Proficiency Level')\n",
      "ax1.set_title('Unix proficiency levels')\n",
      "ax1.set_xticks(ind+(width/2))\n",
      "ax1.set_xticklabels( ('1', '2', '3', '4', '5') )\n",
      "\n",
      "fig2, ax2 = plt.subplots()\n",
      "fig2 = ax2.bar(ind, db_plot[1], width, color='y')\n",
      "ax2.set_ylabel('Number of respondents')\n",
      "ax2.set_xlabel('Proficiency Level')\n",
      "ax2.set_title('Database proficiency levels')\n",
      "ax2.set_xticks(ind+(width/2))\n",
      "ax2.set_xticklabels( ('1', '2', '3', '4', '5') )\n",
      "\n",
      "fig3, ax3 = plt.subplots()\n",
      "fig3 = ax3.bar(ind, code_plot[1], width, color='b')\n",
      "ax3.set_ylabel('Number of respondents')\n",
      "ax3.set_xlabel('Proficiency Level')\n",
      "ax3.set_title('Programming proficiency levels')\n",
      "ax3.set_xticks(ind+(width/2))\n",
      "ax3.set_xticklabels( ('1', '2', '3', '4', '5') )\n",
      "\n",
      "\n",
      "fontP = FontProperties()\n",
      "fontP.set_size('small')\n",
      "#ax.legend([rects1], \"title\", prop = fontP)\n",
      "\n",
      "#ax.legend((rects1[0], rects2[0], rects3[0]), ('Unix', 'Database', 'Programming'), loc='center left', \n",
      "#          bbox_to_anchor=(1, 0.5), ncol=1, fancybox=True, shadow=True)\n",
      "\n",
      "#ax.legend( (rects1[0], rects2[0], rects3[0]), ('Unix', 'Database', 'Programming'), prop = fontP )\n",
      "#ax.legend()\n",
      "\n",
      "def autolabel(rects):\n",
      "    # attach some text labels\n",
      "    for rect in rects:\n",
      "        height = rect.get_height()\n",
      "        ax.text(rect.get_x()+rect.get_width()/2., 1.05*height, '%d'%int(height),\n",
      "                ha='center', va='bottom')\n",
      "\n",
      "autolabel(fig1)\n",
      "autolabel(fig2)\n",
      "autolabel(fig3)\n",
      "\n",
      "\n",
      "plt.show()"
     ],
     "language": "python",
     "metadata": {},
     "outputs": [
      {
       "metadata": {},
       "output_type": "display_data",
       "png": "[encoded data removed]",
       "text": [
        "<matplotlib.figure.Figure at 0x319ffd0>"
       ]
      },
      {
       "metadata": {},
       "output_type": "display_data",
       "png": "[encoded data removed]",
       "text": [
        "<matplotlib.figure.Figure at 0x356b850>"
       ]
      },
      {
       "metadata": {},
       "output_type": "display_data",
       "png": "[encoded data removed]",
       "text": [
        "<matplotlib.figure.Figure at 0x31e9050>"
       ]
      }
     ],
     "prompt_number": 11
    },
    {
     "cell_type": "markdown",
     "metadata": {},
     "source": [
      "### Part II: Income Prediction"
     ]
    },
    {
     "cell_type": "raw",
     "metadata": {},
     "source": [
      "1. Not fully sure I understand the meaning of \"the total difference between actual and predicted income level\". It sounds like that means \"The sum of the absolute value of the difference from one to the next. \n",
      "\n",
      "I computed that value below, and it comes to: 14143.0\n",
      "\n",
      "Alternately, this could mean the difference between predicted total and actual total, which is 759.\n",
      "\n",
      "It seems more useful to work with averages, though: \n",
      "The pedicted average is: 5.16244909831\n",
      "The real average is: 5.05206515416\n",
      "The avg difference per user is: 0.110383944154"
     ]
    },
    {
     "cell_type": "code",
     "collapsed": false,
     "input": [
      "import codecs\n",
      "import math\n",
      "import numpy\n",
      "data =  codecs.open(\"marketing.data.txt\", 'r', encoding='utf-8')\n",
      "ed_mods = { 1: -3, 2: -1, 3: 0, 4: 1, 5:3, 6: 4 } \n",
      "\n",
      "counter = 0\n",
      "difference = 0\n",
      "incomes = []\n",
      "predictions = []\n",
      "total = 0\n",
      "pred_tot = 0\n",
      "average = 0\n",
      "pred_avg = 0\n",
      "\n",
      "for line in data:\n",
      "    a = line.split()\n",
      "    if 'NA' not in a and len(a) > 0:\n",
      "        counter += 1\n",
      "        #d[int(a[0])] += 1\n",
      "        ed = int(a[4])\n",
      "        income = int(a[0])\n",
      "        incomes.append(income)\n",
      "        predict = 4+ed_mods[ed]\n",
      "        predictions.append(predict)\n",
      "        total += income\n",
      "        pred_tot += predict\n",
      "        var = math.fabs(income-predict)\n",
      "        #print \"You expect to earn {0} but instead you earn {1}\".format(predict, income)\n",
      "        #print \"The running difference is now: \" + str(difference)\n",
      "        difference += var\n",
      "print \"******\"        \n",
      "\n",
      "# Got's to use float to get decimal values here: \n",
      "average = total/float(counter)\n",
      "pred_avg = pred_tot/float(counter)\n",
      "        \n",
      "# Not sure what I'd do with this, but this is the \"Total Difference\": \n",
      "print \"The running difference is now: \" + str(difference)\n",
      "\n",
      "#Averages seem more useful, though:\n",
      "print \"Predicted total: \" + str(total) + \"; Actual total: \" + str(pred_tot)\n",
      "print \"The pedicted average is: \" + str(pred_avg)\n",
      "print \"The real average is: \" + str(average)\n",
      "print \"The avg difference per user is: \" + str(math.fabs(pred_avg-average))\n",
      "print \"The total difference between predicted & actual is: \" + str(math.fabs(pred_tot - total))\n",
      "\n",
      "print \"\\nThe above can also be done with numpy:\"\n",
      "print \"-the predicted average is: \" + str(numpy.mean(predictions))\n",
      "print \"-the real average is: \" + str(numpy.mean(incomes))    \n",
      "\n",
      "        \n",
      "    \n"
     ],
     "language": "python",
     "metadata": {},
     "outputs": [
      {
       "output_type": "stream",
       "stream": "stdout",
       "text": [
        "******\n",
        "The running difference is now: 14143.0\n",
        "Predicted total: 34738; Actual total: 35497\n",
        "The pedicted average is: 5.16244909831\n",
        "The real average is: 5.05206515416\n",
        "The avg difference per user is: 0.110383944154\n",
        "The total difference between predicted & actual is: 759.0\n",
        "\n",
        "The above can also be done with numpy:\n",
        "-the predicted average is: 5.16244909831\n",
        "-the real average is: 5.05206515416\n"
       ]
      }
     ],
     "prompt_number": 15
    },
    {
     "cell_type": "raw",
     "metadata": {},
     "source": [
      "2. Adding an occupation parameter into the model makes it considerably worse. Both models are more likely to over-estimate, though the education only model by less than 10% of an increment. Adding occupation brings the average to almost a full increment higher than it should be. \n",
      "\n",
      "It might be interesting to also compute these averages per education level, or per occupation...\n",
      "\n",
      "The running difference is now: 15375.5\n",
      "The total difference between predicted & actual is: 5011.9\n",
      "The pedicted average is: 5.78096276905\n",
      "The real average is: 5.05206515416\n",
      "The avg difference per user is: 0.728897614892"
     ]
    },
    {
     "cell_type": "code",
     "collapsed": false,
     "input": [
      "import codecs\n",
      "import math\n",
      "import numpy\n",
      "data =  codecs.open(\"marketing.data.txt\", 'r', encoding='utf-8')\n",
      "ed_mods = { 1: -3, 2: -1, 3: 0, 4: 1, 5:3, 6: 4 } \n",
      "occ_mods = { 1: 2.5, 2: .6, 3: 0, 4: .2, 5: -.5, 6:-1.5, 7: .3, 8: .8, 9: -2.5 }\n",
      "\n",
      "counter = 0\n",
      "difference = 0\n",
      "incomes = []\n",
      "predictions = []\n",
      "total = 0\n",
      "pred_tot = 0\n",
      "average = 0\n",
      "pred_avg = 0\n",
      "\n",
      "for line in data:\n",
      "    a = line.split()\n",
      "    if 'NA' not in a and len(a) > 0:\n",
      "        counter += 1\n",
      "        #d[int(a[0])] += 1\n",
      "        ed = int(a[4])\n",
      "        occ = int(a[5])\n",
      "        income = int(a[0])\n",
      "        incomes.append(income)\n",
      "        predict = 4+ed_mods[ed]+occ_mods[occ]\n",
      "        predictions.append(predict)\n",
      "        total += income\n",
      "        pred_tot += predict\n",
      "        var = math.fabs(income-predict)\n",
      "        #print \"You expect to earn {0} but instead you earn {1}\".format(predict, income)\n",
      "        #print \"The running difference is now: \" + str(difference)\n",
      "        difference += var\n",
      "print \"******\"        \n",
      "\n",
      "# Got's to use float to get decimal values here: \n",
      "average = total/float(counter)\n",
      "pred_avg = pred_tot/float(counter)\n",
      "        \n",
      "# Not sure what I'd do with this, but this is the \"Total Difference\": \n",
      "print \"The running difference is now: \" + str(difference)\n",
      "\n",
      "#Averages seem more useful, though:\n",
      "print \"Predicted total: \" + str(total) + \"; Actual total: \" + str(pred_tot)\n",
      "print \"The pedicted average is: \" + str(pred_avg)\n",
      "print \"The real average is: \" + str(average)\n",
      "print \"The avg difference per user is: \" + str(math.fabs(pred_avg-average))\n",
      "print \"The total difference between predicted & actual is: \" + str(math.fabs(pred_tot - total))\n",
      " \n",
      "\n"
     ],
     "language": "python",
     "metadata": {},
     "outputs": [
      {
       "output_type": "stream",
       "stream": "stdout",
       "text": [
        "******\n",
        "The running difference is now: 15375.5\n",
        "Predicted total: 34738; Actual total: 39749.9\n",
        "The pedicted average is: 5.78096276905\n",
        "The real average is: 5.05206515416\n",
        "The avg difference per user is: 0.728897614892\n",
        "The total difference between predicted & actual is: 5011.9\n"
       ]
      }
     ],
     "prompt_number": 16
    },
    {
     "cell_type": "code",
     "collapsed": false,
     "input": [],
     "language": "python",
     "metadata": {},
     "outputs": []
    }
   ],
   "metadata": {}
  }
 ]
}