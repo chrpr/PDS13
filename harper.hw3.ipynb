{
 "metadata": {
  "name": ""
 },
 "nbformat": 3,
 "nbformat_minor": 0,
 "worksheets": [
  {
   "cells": [
    {
     "cell_type": "markdown",
     "metadata": {},
     "source": [
      "## Corey Harper -- PDS Homework 3\n",
      "\n",
      "####1. Dowload file. Count unique users, objects & responses is easiest using jq on the command line, but will also be done in python below\n",
      "\n",
      "Note -- Command line option fails. See below for details.\n",
      "\n",
      "There are 15699 unique users, 340423 unique objects, and 69871 unique responses."
     ]
    },
    {
     "cell_type": "code",
     "collapsed": false,
     "input": [
      "!wget https://dl.dropboxusercontent.com/u/2143857/user_tag_activity.json"
     ],
     "language": "python",
     "metadata": {},
     "outputs": [
      {
       "output_type": "stream",
       "stream": "stdout",
       "text": [
        "--2013-10-12 14:27:09--  https://dl.dropboxusercontent.com/u/2143857/user_tag_activity.json\r\n"
       ]
      },
      {
       "output_type": "stream",
       "stream": "stdout",
       "text": [
        "Resolving dl.dropboxusercontent.com (dl.dropboxusercontent.com)... 174.129.21.126\r\n",
        "Connecting to dl.dropboxusercontent.com (dl.dropboxusercontent.com)|174.129.21.126|:443... connected.\r\n"
       ]
      },
      {
       "output_type": "stream",
       "stream": "stdout",
       "text": [
        "HTTP request sent, awaiting response... "
       ]
      },
      {
       "output_type": "stream",
       "stream": "stdout",
       "text": [
        "200 OK\r\n"
       ]
      },
      {
       "output_type": "stream",
       "stream": "stdout",
       "text": [
        "Length: 104967376 (100M) [text/plain]\r\n",
        "Saving to: `user_tag_activity.json'\r\n",
        "\r\n",
        "\r",
        " 0% [                                       ] 0           --.-K/s              "
       ]
      },
      {
       "output_type": "stream",
       "stream": "stdout",
       "text": [
        "\r",
        " 1% [                                       ] 2,039,399   9.66M/s              "
       ]
      },
      {
       "output_type": "stream",
       "stream": "stdout",
       "text": [
        "\r",
        " 8% [==>                                    ] 9,051,751   21.5M/s              "
       ]
      },
      {
       "output_type": "stream",
       "stream": "stdout",
       "text": [
        "\r",
        "20% [======>                                ] 21,085,799  33.4M/s              "
       ]
      },
      {
       "output_type": "stream",
       "stream": "stdout",
       "text": [
        "\r",
        "26% [=========>                             ] 27,647,591  32.9M/s              "
       ]
      },
      {
       "output_type": "stream",
       "stream": "stdout",
       "text": [
        "\r",
        "31% [===========>                           ] 33,562,215  29.9M/s              "
       ]
      },
      {
       "output_type": "stream",
       "stream": "stdout",
       "text": [
        "\r",
        "40% [==============>                        ] 42,032,743  31.6M/s              "
       ]
      },
      {
       "output_type": "stream",
       "stream": "stdout",
       "text": [
        "\r",
        "47% [=================>                     ] 50,339,431  32.5M/s              "
       ]
      },
      {
       "output_type": "stream",
       "stream": "stdout",
       "text": [
        "\r",
        "52% [===================>                   ] 55,123,559  31.3M/s              "
       ]
      },
      {
       "output_type": "stream",
       "stream": "stdout",
       "text": [
        "\r",
        "60% [======================>                ] 63,381,095  32.2M/s              "
       ]
      },
      {
       "output_type": "stream",
       "stream": "stdout",
       "text": [
        "\r",
        "67% [=========================>             ] 71,310,951  31.6M/s              "
       ]
      },
      {
       "output_type": "stream",
       "stream": "stdout",
       "text": [
        "\r",
        "75% [============================>          ] 79,699,559  31.8M/s              "
       ]
      },
      {
       "output_type": "stream",
       "stream": "stdout",
       "text": [
        "\r",
        "84% [===============================>       ] 88,383,079  32.5M/s              "
       ]
      },
      {
       "output_type": "stream",
       "stream": "stdout",
       "text": [
        "\r",
        "91% [==================================>    ] 96,476,775  32.5M/s              "
       ]
      },
      {
       "output_type": "stream",
       "stream": "stdout",
       "text": [
        "\r",
        "100%[======================================>] 104,967,376 33.1M/s   in 3.0s    \r\n",
        "\r\n",
        "2013-10-12 14:27:13 (33.1 MB/s) - `user_tag_activity.json' saved [104967376/104967376]\r\n",
        "\r\n"
       ]
      }
     ],
     "prompt_number": 1
    },
    {
     "cell_type": "code",
     "collapsed": false,
     "input": [
      "import json\n",
      "data = []\n",
      "users = set()\n",
      "objects = set()\n",
      "responses = set()\n",
      "\n",
      "with open('user_tag_activity.json') as f:\n",
      "    for line in f:\n",
      "        data.append(json.loads(line))\n",
      "\n",
      "for rec in data:\n",
      "    users.add(rec[\"user\"])\n",
      "    objects.add(rec[\"object\"])\n",
      "    responses.add(rec[\"response\"])\n",
      "    \n",
      "print \"There are \" + str(len(users)) + \" unique users.\"\n",
      "print \"There are \" + str(len(objects)) + \" unique objects.\"\n",
      "print \"There are \" + str(len(responses)) + \" unique responses.\"\n"
     ],
     "language": "python",
     "metadata": {},
     "outputs": [
      {
       "output_type": "stream",
       "stream": "stdout",
       "text": [
        "There are 15699 unique users.\n",
        "There are 340423 unique objects.\n",
        "There are 69871 unique responses.\n"
       ]
      }
     ],
     "prompt_number": 6
    },
    {
     "cell_type": "markdown",
     "metadata": {},
     "source": [
      "Interestingly, jq chokes on this data, giving erroneous results. Upon further investigation, this seems to be due to the representation of user, object & response IDs as integers rather than strings. \n",
      "\n",
      "Many JSON implementations only support IEEE 754 64-bit numbers, whichare limited to 16 significant digits before the decimal place. As a result, it appears that jq is rounding of the last 2 significant digits of many of the 18 digit long IDs. \n",
      "\n",
      "For more info, see:\n",
      "https://github.com/stedolan/jq/issues/143 and\n",
      "https://github.com/stedolan/jq/issues/121\n"
     ]
    },
    {
     "cell_type": "code",
     "collapsed": false,
     "input": [
      "!cat user_tag_activity.json | jq '.user' | sort | uniq | wc"
     ],
     "language": "python",
     "metadata": {},
     "outputs": [
      {
       "output_type": "stream",
       "stream": "stdout",
       "text": [
        "   2925    2925   58839\r\n"
       ]
      }
     ],
     "prompt_number": 12
    },
    {
     "cell_type": "code",
     "collapsed": false,
     "input": [
      "!cat user_tag_activity.json | jq '.object' | sort | uniq | wc"
     ],
     "language": "python",
     "metadata": {},
     "outputs": [
      {
       "output_type": "stream",
       "stream": "stdout",
       "text": [
        "  45135   45135  912551\r\n"
       ]
      }
     ],
     "prompt_number": 13
    },
    {
     "cell_type": "code",
     "collapsed": false,
     "input": [
      "!cat user_tag_activity.json | jq '.response' | sort | uniq | wc"
     ],
     "language": "python",
     "metadata": {},
     "outputs": [
      {
       "output_type": "stream",
       "stream": "stdout",
       "text": [
        "  65992   65992 1344113\r\n"
       ]
      }
     ],
     "prompt_number": 14
    },
    {
     "cell_type": "markdown",
     "metadata": {},
     "source": [
      "#### 2. Filtering NULLs..."
     ]
    },
    {
     "cell_type": "code",
     "collapsed": false,
     "input": [
      "import json\n",
      "data = []\n",
      "users = set()\n",
      "objects = set()\n",
      "responses = set()\n",
      "\n",
      "with open('user_tag_activity.json') as f:\n",
      "    for line in f:\n",
      "        if 'NULL' not in line:\n",
      "            data.append(json.loads(line))\n",
      "\n",
      "for rec in data:\n",
      "    users.add(rec[\"user\"])\n",
      "    objects.add(rec[\"object\"])\n",
      "    responses.add(rec[\"response\"])\n",
      "    \n",
      "print \"There are \" + str(len(users)) + \" unique users.\"\n",
      "print \"There are \" + str(len(objects)) + \" unique objects.\"\n",
      "print \"There are \" + str(len(responses)) + \" unique responses.\""
     ],
     "language": "python",
     "metadata": {},
     "outputs": [
      {
       "output_type": "stream",
       "stream": "stdout",
       "text": [
        "There are 13956 unique users.\n",
        "There are 323757 unique objects.\n",
        "There are 26983 unique responses.\n"
       ]
      }
     ],
     "prompt_number": 8
    },
    {
     "cell_type": "markdown",
     "metadata": {},
     "source": [
      "#### 3. Users - higest rejection rates; most rejects: \n",
      "\n",
      "A few hackish tricks in here, but works. A bit slower than I was hoping for, but not horrible. \n",
      "\n",
      "*Note: For this and subsequent questions, NULL values are filtered, as they only add noise for analysis of acceptance & rejection rates.*"
     ]
    },
    {
     "cell_type": "code",
     "collapsed": false,
     "input": [
      "import json\n",
      "data = []\n",
      "users = {}\n",
      "responses = {}\n",
      "\n",
      "with open('user_tag_activity.json') as f:\n",
      "    for line in f:\n",
      "        if 'NULL' not in line:\n",
      "            data.append(json.loads(line))\n",
      "\n",
      "for rec in data:\n",
      "    #Set up data structures: for each user, track:\n",
      "    #   - accept count, reject count, total, reject rate\n",
      "    \n",
      "    if rec[\"user\"] not in users: \n",
      "        if rec[\"accepted\"] == \"1\": users[rec[\"user\"]] = [1,0,1,1]\n",
      "        else: users[rec[\"user\"]] = [0,1,1,0]\n",
      "    else: \n",
      "        if rec[\"accepted\"] == \"1\": users[rec[\"user\"]][0] += 1\n",
      "        else: users[rec[\"user\"]][1] += 1\n",
      "        users[rec[\"user\"]][2] += 1\n",
      "    \n",
      "    # This is a bit crazy, but, basically forcing a float, dividing rejections by total, \n",
      "    # and converting to a percent with 2 decimal places.\n",
      "    users[rec[\"user\"]][3] = round(users[rec[\"user\"]][1] / \n",
      "                                  float(users[rec[\"user\"]][2]), 4) * 100\n",
      "\n",
      "\n",
      "# Since these dictionaries aren't sorted, this little lamda oneliner will sort them in reverse numeric order\n",
      "# resultant data structure is a list of tuples of (userid, [accept, reject, total, ratio]), for example:\n",
      "# (4461921972878738869, [1, 18, 19, '95.0%'])\n",
      "most_rej = sorted(users.iteritems(), key=lambda k: k[1][1], reverse=True)\n",
      "rej_rate = sorted(users.iteritems(), key=lambda k: k[1][3], reverse=True)\n",
      "\n",
      "\n",
      "print \"\\nThe top 5 rejection counts are: \"\n",
      "for i in range(5):\n",
      "    print str(i+1) + \": \" + str(most_rej[i][0]) + \" with \" + str(most_rej[i][1][1]) + \" rejects.\"\n",
      "\n",
      "print \"\\nThe top 5 (rounded) rejection rates are: \"\n",
      "for i in range(5):\n",
      "    print str(i+1) + \": \" + str(rej_rate[i][0]) + \" at \" + str(rej_rate[i][1][3]) + \".\"\n"
     ],
     "language": "python",
     "metadata": {},
     "outputs": [
      {
       "output_type": "stream",
       "stream": "stdout",
       "text": [
        "\n",
        "The top 5 rejection counts are: \n",
        "1: 5461918972760738536 with 6009 rejects.\n",
        "2: 3461916972872738871 with 3606 rejects.\n",
        "3: 6400038450057764 with 2449 rejects.\n",
        "4: 4814036714632610472 with 2275 rejects.\n",
        "5: -2088598916602095351 with 1517 rejects.\n",
        "\n",
        "The top 5 (rounded) rejection rates are: \n",
        "1: -644215227500396362 at 100.0.\n",
        "2: 4461921972876738760 at 100.0.\n",
        "3: -5984686100264812157 at 100.0.\n",
        "4: 7461910972763738668 at 100.0.\n",
        "5: 7140078293220426276 at 100.0.\n"
       ]
      }
     ],
     "prompt_number": 10
    },
    {
     "cell_type": "markdown",
     "metadata": {},
     "source": [
      "####4. Basically the same code as above, but tracking response & providing a running count of erroneously rejected good tags:"
     ]
    },
    {
     "cell_type": "code",
     "collapsed": false,
     "input": [
      "import json\n",
      "data = []\n",
      "users = {}\n",
      "responses = {}\n",
      "\n",
      "with open('user_tag_activity.json') as f:\n",
      "    for line in f:\n",
      "        if 'NULL' not in line:\n",
      "            data.append(json.loads(line))\n",
      "\n",
      "for rec in data:\n",
      "    #Set up data structures: for each user, track:\n",
      "    #   - accept count, reject count, total, reject rate\n",
      "    \n",
      "    if rec[\"response\"] not in responses: \n",
      "        if rec[\"accepted\"] == \"1\": responses[rec[\"response\"]] = [1,0,1,1]\n",
      "        else: responses[rec[\"response\"]] = [0,1,1,0]\n",
      "    else: \n",
      "        if rec[\"accepted\"] == \"1\": responses[rec[\"response\"]][0] += 1\n",
      "        else: responses[rec[\"response\"]][1] += 1\n",
      "        responses[rec[\"response\"]][2] += 1\n",
      "    \n",
      "    # This is a bit crazy, but, basically forcing a float, dividing rejections by total, \n",
      "    # and converting to a percent with 2 decimal places.\n",
      "    responses[rec[\"response\"]][3] = round(responses[rec[\"response\"]][1] / \n",
      "                                          float(responses[rec[\"response\"]][2]), 4) * 100\n",
      "\n",
      "\n",
      "# Since these dictionaries aren't sorted, this little lamda oneliner will sort them in reverse numeric order\n",
      "# resultant data structure is a list of tuples of (userid, [accept, reject, total, ratio]), for example:\n",
      "# (4461921972878738869, [1, 18, 19, '95.0%'])\n",
      "\n",
      "#most_rej = sorted(responses.iteritems(), key=lambda k: k[1][1], reverse=True)\n",
      "rej_rate = sorted(responses.iteritems(), key=lambda k: k[1][3], reverse=True)\n",
      "\n",
      "\n",
      "print \"\\nThe 5 responses with the highest (rounded) rejection rates are: \"\n",
      "false_drops = 0\n",
      "for i in range(5):\n",
      "    #print str(rej_rate[1])\n",
      "    print (str(i+1) + \": \" + str(rej_rate[i][0]) + \" at \" + str(rej_rate[i][1][3]) + \n",
      "           \"%. Ignoring this response would result in: \" + str(rej_rate[i][1][0]) + \n",
      "           \" false drops.\")\n",
      "    false_drops += rej_rate[i][1][0]\n",
      "\n",
      "print \"\\nIgnoring these 5 responses would result in \" + str(false_drops) + \" false drops.\""
     ],
     "language": "python",
     "metadata": {},
     "outputs": [
      {
       "output_type": "stream",
       "stream": "stdout",
       "text": [
        "\n",
        "The 5 responses with the highest (rounded) rejection rates are: \n",
        "1: 6035201086085267463 at 100.0%. Ignoring this response would result in: 0 false drops.\n",
        "2: -5488976949060304881 at 100.0%. Ignoring this response would result in: 0 false drops.\n",
        "3: -6960269106222465003 at 100.0%. Ignoring this response would result in: 0 false drops.\n",
        "4: 4992321614966554649 at 100.0%. Ignoring this response would result in: 0 false drops.\n",
        "5: -3761412540531212259 at 100.0%. Ignoring this response would result in: 0 false drops.\n",
        "\n",
        "Ignoring these 5 responses would result in 0 false drops.\n"
       ]
      }
     ],
     "prompt_number": 14
    },
    {
     "cell_type": "markdown",
     "metadata": {},
     "source": [
      "####5 + 6. auto-accept top five users plot rejection ratios.\n",
      "\n",
      "Again, exactly the same code 4, calculating accept rather than reject ratio & running count of erroneously accepted bad tags.\n",
      "\n",
      "Also contains construction of a very basic frequency distribution of data points as a histogram.\n"
     ]
    },
    {
     "cell_type": "code",
     "collapsed": false,
     "input": [
      "import json\n",
      "import numpy as np\n",
      "import matplotlib.pyplot as plt\n",
      "import matplotlib.patches as patches\n",
      "import matplotlib.path as path\n",
      "%matplotlib inline\n",
      "\n",
      "ratios = []\n",
      "\n",
      "data = []\n",
      "users = {}\n",
      "responses = {}\n",
      "\n",
      "with open('user_tag_activity.json') as f:\n",
      "    for line in f:\n",
      "        if 'NULL' not in line:\n",
      "            data.append(json.loads(line))\n",
      "\n",
      "for rec in data:\n",
      "    #Set up data structures: for each user, track:\n",
      "    #   - accept count, reject count, total, reject rate\n",
      "    \n",
      "    if rec[\"user\"] not in users: \n",
      "        if rec[\"accepted\"] == \"1\": users[rec[\"user\"]] = [1,0,1,1]\n",
      "        else: users[rec[\"user\"]] = [0,1,1,0]\n",
      "    else: \n",
      "        if rec[\"accepted\"] == \"1\": users[rec[\"user\"]][0] += 1\n",
      "        else: users[rec[\"user\"]][1] += 1\n",
      "        users[rec[\"user\"]][2] += 1\n",
      "    \n",
      "    # This is a bit crazy, but, basically forcing a float, dividing rejections by total, \n",
      "    # and converting to a percent with 2 decimal places.\n",
      "    users[rec[\"user\"]][3] = round(users[rec[\"user\"]][0] / \n",
      "                                  float(users[rec[\"user\"]][2]), 4) * 100\n",
      "    #ratios.append(round(users[rec[\"user\"]][0] / float(users[rec[\"user\"]][2]), 4) * 100)\n",
      "\n",
      "# Since these dictionaries aren't sorted, this little lamda oneliner will sort them in reverse numeric order\n",
      "# resultant data structure is a list of tuples of (userid, [accept, reject, total, ratio]), for example:\n",
      "# (4461921972878738869, [1, 18, 19, '95.0%'])\n",
      "\n",
      "#most_rej = sorted(responses.iteritems(), key=lambda k: k[1][1], reverse=True)\n",
      "rej_rate = sorted(users.iteritems(), key=lambda k: k[1][3], reverse=True)\n",
      "\n",
      "\n",
      "print \"\\nThe 5 responses with the highest (rounded) rejection rates are: \"\n",
      "false_hits = 0\n",
      "for i in range(5):\n",
      "    print (str(i+1) + \": \" + str(rej_rate[i][0]) + \" at \" + str(rej_rate[i][1][3]) + \n",
      "           \". Auto-accepting this user would result in: \" + str(rej_rate[i][1][1]) + \n",
      "           \" erroneously accepted tags.\")\n",
      "    false_hits += rej_rate[i][1][1]\n",
      "\n",
      "print \"\\nAuto-accpeting these 5 users would result in \" + str(false_hits) + \" erroneously added tags.\"\n",
      "\n",
      "#print len(users)\n",
      "ratios = []\n",
      "perfect = 0\n",
      "total = 0\n",
      "for user in users.values():\n",
      "    total += 1\n",
      "    if user[3] == 100.0: perfect+=1\n",
      "    ratios.append(user[3])\n",
      "\n",
      "print (\"\\nThere are actually many more than 5 of these perfect users. There are \" + \n",
      "       str(perfect) + \" of them. \\nThis represents \" + str(round(float(perfect) / total,4) * 100) + \n",
      "        \"% of the total.\")\n",
      "   \n",
      "\n",
      "# Really basic frequency distribution in histogram form.\n",
      "plt.hist(ratios, bins=20)\n",
      "plt.title(\"Acceptance Rate Distribution\")\n",
      "plt.xlabel(\"Acceptance Rate (%)\")\n",
      "plt.ylabel(\"Frequency\")\n",
      "plt.show()\n",
      "        "
     ],
     "language": "python",
     "metadata": {},
     "outputs": [
      {
       "output_type": "stream",
       "stream": "stdout",
       "text": [
        "\n",
        "The 5 responses with the highest (rounded) rejection rates are: \n",
        "1: 3461904972741738519 at 100.0. Auto-accepting this user would result in: 0 erroneously accepted tags.\n",
        "2: 3461904972741738522 at 100.0. Auto-accepting this user would result in: 0 erroneously accepted tags.\n",
        "3: -6984797100896813018 at 100.0. Auto-accepting this user would result in: 0 erroneously accepted tags.\n",
        "4: -6984797100896813016 at 100.0. Auto-accepting this user would result in: 0 erroneously accepted tags.\n",
        "5: -6984797100896813010 at 100.0. Auto-accepting this user would result in: 0 erroneously accepted tags.\n",
        "\n",
        "Auto-accpeting these 5 users would result in 0 erroneously added tags.\n",
        "\n",
        "There are actually many more than 5 of these perfect users. There are 4490 of them. \n",
        "This represents 32.17% of the total.\n"
       ]
      },
      {
       "metadata": {},
       "output_type": "display_data",
       "png": "[encoded data removed]",
       "text": [
        "<matplotlib.figure.Figure at 0xf5b5a90>"
       ]
      }
     ],
     "prompt_number": 18
    },
    {
     "cell_type": "code",
     "collapsed": false,
     "input": [],
     "language": "python",
     "metadata": {},
     "outputs": []
    }
   ],
   "metadata": {}
  }
 ]
}